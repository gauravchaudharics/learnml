{
 "cells": [
  {
   "cell_type": "markdown",
   "metadata": {
    "colab_type": "text",
    "id": "OpiYbzc_-I9H"
   },
   "source": [
    "# FILE I/O"
   ]
  },
  {
   "cell_type": "markdown",
   "metadata": {
    "colab_type": "text",
    "id": "eEgVtQEi-I9I"
   },
   "source": [
    "File is a named location on disk to store related information. It is used to permanently store data in a non-volatile memory (e.g. hard disk).\n",
    "\n",
    "Since, random access memory (RAM) is volatile which loses its data when computer is turned off, we use files for future use of the data.\n",
    "\n",
    "When we want to read from or write to a file we need to open it first. When we are done, it needs to be closed, so that resources that are tied with the file are freed.\n",
    "\n",
    "File operation:\n",
    "\n",
    "1. Open a file\n",
    "\n",
    "2. Read or write (perform operation)\n",
    "\n",
    "3. Close the file"
   ]
  },
  {
   "cell_type": "markdown",
   "metadata": {
    "colab_type": "text",
    "id": "Yoz97zfk-I9J"
   },
   "source": [
    "# Opening a File"
   ]
  },
  {
   "cell_type": "markdown",
   "metadata": {
    "colab_type": "text",
    "id": "kKSic099-I9K"
   },
   "source": [
    "Python has a built-in function open() to open a file. This function returns a file object, also called a handle, as it is used to read or modify the file accordingly."
   ]
  },
  {
   "cell_type": "code",
   "execution_count": 6,
   "metadata": {
    "colab": {},
    "colab_type": "code",
    "id": "_Gdj7ZzH-I9L"
   },
   "outputs": [
    {
     "ename": "FileNotFoundError",
     "evalue": "[Errno 2] No such file or directory: 'example.txt'",
     "output_type": "error",
     "traceback": [
      "\u001b[0;31m---------------------------------------------------------------------------\u001b[0m",
      "\u001b[0;31mFileNotFoundError\u001b[0m                         Traceback (most recent call last)",
      "\u001b[0;32m<ipython-input-6-7a5bf5b0a0c5>\u001b[0m in \u001b[0;36m<module>\u001b[0;34m\u001b[0m\n\u001b[0;32m----> 1\u001b[0;31m \u001b[0mf\u001b[0m \u001b[0;34m=\u001b[0m \u001b[0mopen\u001b[0m\u001b[0;34m(\u001b[0m\u001b[0;34m'example.txt'\u001b[0m\u001b[0;34m)\u001b[0m \u001b[0;31m#open file in current direcotry\u001b[0m\u001b[0;34m\u001b[0m\u001b[0;34m\u001b[0m\u001b[0m\n\u001b[0m",
      "\u001b[0;31mFileNotFoundError\u001b[0m: [Errno 2] No such file or directory: 'example.txt'"
     ]
    }
   ],
   "source": [
    "f = open('example.txt') #open file in current direcotry"
   ]
  },
  {
   "cell_type": "markdown",
   "metadata": {
    "colab_type": "text",
    "id": "lUwZz0B2-I9P"
   },
   "source": [
    "We can specify the mode while opening a file. In mode, we specify whether we want to read 'r', write 'w' or append 'a' to the file. We also specify if we want to open the file in text mode or binary mode."
   ]
  },
  {
   "cell_type": "markdown",
   "metadata": {
    "colab_type": "text",
    "id": "xS4zcuRQ-I9Q"
   },
   "source": [
    "# Python File Modes"
   ]
  },
  {
   "cell_type": "markdown",
   "metadata": {
    "colab_type": "text",
    "id": "Frkbet6C-I9R"
   },
   "source": [
    "'r' Open a file for reading. (default)\n",
    "\n",
    "'w' Open a file for writing. Creates a new file if it does not exist or truncates the file if it exists.\n",
    "\n",
    "'x' Open a file for exclusive creation. If the file already exists, the operation fails.\n",
    "\n",
    "'a' Open for appending at the end of the file without truncating it. Creates a new file if it does not exist.\n",
    "\n",
    "'t' Open in text mode. (default)\n",
    "\n",
    "'b' Open in binary mode.\n",
    "\n",
    "'+' Open a file for updating (reading and writing)"
   ]
  },
  {
   "cell_type": "code",
   "execution_count": 7,
   "metadata": {
    "colab": {},
    "colab_type": "code",
    "id": "9D2H7IkE-I9S"
   },
   "outputs": [
    {
     "ename": "FileNotFoundError",
     "evalue": "[Errno 2] No such file or directory: 'example.txt'",
     "output_type": "error",
     "traceback": [
      "\u001b[0;31m---------------------------------------------------------------------------\u001b[0m",
      "\u001b[0;31mFileNotFoundError\u001b[0m                         Traceback (most recent call last)",
      "\u001b[0;32m<ipython-input-7-91b2f0f7f79d>\u001b[0m in \u001b[0;36m<module>\u001b[0;34m\u001b[0m\n\u001b[0;32m----> 1\u001b[0;31m \u001b[0mf\u001b[0m \u001b[0;34m=\u001b[0m \u001b[0mopen\u001b[0m\u001b[0;34m(\u001b[0m\u001b[0;34m'example.txt'\u001b[0m\u001b[0;34m)\u001b[0m \u001b[0;31m#equivalent to 'r'\u001b[0m\u001b[0;34m\u001b[0m\u001b[0;34m\u001b[0m\u001b[0m\n\u001b[0m\u001b[1;32m      2\u001b[0m \u001b[0mf\u001b[0m \u001b[0;34m=\u001b[0m \u001b[0mopen\u001b[0m\u001b[0;34m(\u001b[0m\u001b[0;34m'example.txt'\u001b[0m\u001b[0;34m,\u001b[0m \u001b[0;34m'r'\u001b[0m\u001b[0;34m)\u001b[0m\u001b[0;34m\u001b[0m\u001b[0;34m\u001b[0m\u001b[0m\n\u001b[1;32m      3\u001b[0m \u001b[0;34m\u001b[0m\u001b[0m\n\u001b[1;32m      4\u001b[0m \u001b[0mf\u001b[0m \u001b[0;34m=\u001b[0m \u001b[0mopen\u001b[0m\u001b[0;34m(\u001b[0m\u001b[0;34m'test.txt'\u001b[0m\u001b[0;34m,\u001b[0m \u001b[0;34m'w'\u001b[0m\u001b[0;34m)\u001b[0m\u001b[0;34m\u001b[0m\u001b[0;34m\u001b[0m\u001b[0m\n",
      "\u001b[0;31mFileNotFoundError\u001b[0m: [Errno 2] No such file or directory: 'example.txt'"
     ]
    }
   ],
   "source": [
    "f = open('example.txt') #equivalent to 'r' \n",
    "f = open('example.txt', 'r')\n",
    "\n",
    "f = open('test.txt', 'w')"
   ]
  },
  {
   "cell_type": "markdown",
   "metadata": {
    "colab_type": "text",
    "id": "Ns8S234S-I9V"
   },
   "source": [
    "The default encoding is platform dependent. In windows, it is 'cp1252' but 'utf-8' in Linux."
   ]
  },
  {
   "cell_type": "markdown",
   "metadata": {
    "colab_type": "text",
    "id": "RbXvbr2u-I9W"
   },
   "source": [
    "So, we must not also rely on the default encoding or else our code will behave differently in different platforms.\n",
    "\n",
    "Hence, when working with files in text mode, it is highly recommended to specify the encoding type."
   ]
  },
  {
   "cell_type": "markdown",
   "metadata": {
    "colab_type": "text",
    "id": "dQ-Q_7sM-I9X"
   },
   "source": [
    "# Closing a File"
   ]
  },
  {
   "cell_type": "markdown",
   "metadata": {
    "colab_type": "text",
    "id": "XPZWiNao-I9Y"
   },
   "source": [
    "Closing a file will free up the resources that were tied with the file and is done using the close() method.\n",
    "\n",
    "Python has a garbage collector to clean up unreferenced objects but, we must not rely on it to close the file."
   ]
  },
  {
   "cell_type": "code",
   "execution_count": 8,
   "metadata": {
    "colab": {},
    "colab_type": "code",
    "id": "EgFZBjcn-I9Y"
   },
   "outputs": [
    {
     "ename": "FileNotFoundError",
     "evalue": "[Errno 2] No such file or directory: 'example.txt'",
     "output_type": "error",
     "traceback": [
      "\u001b[0;31m---------------------------------------------------------------------------\u001b[0m",
      "\u001b[0;31mFileNotFoundError\u001b[0m                         Traceback (most recent call last)",
      "\u001b[0;32m<ipython-input-8-5b323e2eefb2>\u001b[0m in \u001b[0;36m<module>\u001b[0;34m\u001b[0m\n\u001b[0;32m----> 1\u001b[0;31m \u001b[0mf\u001b[0m \u001b[0;34m=\u001b[0m \u001b[0mopen\u001b[0m\u001b[0;34m(\u001b[0m\u001b[0;34m'example.txt'\u001b[0m\u001b[0;34m)\u001b[0m\u001b[0;34m\u001b[0m\u001b[0;34m\u001b[0m\u001b[0m\n\u001b[0m\u001b[1;32m      2\u001b[0m \u001b[0mf\u001b[0m\u001b[0;34m.\u001b[0m\u001b[0mclose\u001b[0m\u001b[0;34m(\u001b[0m\u001b[0;34m)\u001b[0m\u001b[0;34m\u001b[0m\u001b[0;34m\u001b[0m\u001b[0m\n",
      "\u001b[0;31mFileNotFoundError\u001b[0m: [Errno 2] No such file or directory: 'example.txt'"
     ]
    }
   ],
   "source": [
    "f = open('example.txt')\n",
    "f.close()"
   ]
  },
  {
   "cell_type": "markdown",
   "metadata": {
    "colab_type": "text",
    "id": "SuymHIy4-I9b"
   },
   "source": [
    "This method is not entirely safe. If an exception occurs when we are performing some operation with the file, the code exits without closing the file.\n",
    "\n",
    "A safer way is to use a try...finally block."
   ]
  },
  {
   "cell_type": "code",
   "execution_count": 9,
   "metadata": {
    "colab": {},
    "colab_type": "code",
    "id": "H40_LhQX-I9c"
   },
   "outputs": [
    {
     "ename": "FileNotFoundError",
     "evalue": "[Errno 2] No such file or directory: 'example.txt'",
     "output_type": "error",
     "traceback": [
      "\u001b[0;31m---------------------------------------------------------------------------\u001b[0m",
      "\u001b[0;31mFileNotFoundError\u001b[0m                         Traceback (most recent call last)",
      "\u001b[0;32m<ipython-input-9-10ef7c1d8661>\u001b[0m in \u001b[0;36m<module>\u001b[0;34m\u001b[0m\n\u001b[1;32m      1\u001b[0m \u001b[0;32mtry\u001b[0m\u001b[0;34m:\u001b[0m\u001b[0;34m\u001b[0m\u001b[0;34m\u001b[0m\u001b[0m\n\u001b[0;32m----> 2\u001b[0;31m    \u001b[0mf\u001b[0m \u001b[0;34m=\u001b[0m \u001b[0mopen\u001b[0m\u001b[0;34m(\u001b[0m\u001b[0;34m\"example.txt\"\u001b[0m\u001b[0;34m)\u001b[0m\u001b[0;34m\u001b[0m\u001b[0;34m\u001b[0m\u001b[0m\n\u001b[0m\u001b[1;32m      3\u001b[0m    \u001b[0;31m# perform file operations\u001b[0m\u001b[0;34m\u001b[0m\u001b[0;34m\u001b[0m\u001b[0;34m\u001b[0m\u001b[0m\n\u001b[1;32m      4\u001b[0m \u001b[0;34m\u001b[0m\u001b[0m\n\u001b[1;32m      5\u001b[0m \u001b[0;32mfinally\u001b[0m\u001b[0;34m:\u001b[0m\u001b[0;34m\u001b[0m\u001b[0;34m\u001b[0m\u001b[0m\n",
      "\u001b[0;31mFileNotFoundError\u001b[0m: [Errno 2] No such file or directory: 'example.txt'"
     ]
    }
   ],
   "source": [
    "try:\n",
    "   f = open(\"example.txt\")\n",
    "   # perform file operations\n",
    "    \n",
    "finally:\n",
    "   f.close()"
   ]
  },
  {
   "cell_type": "markdown",
   "metadata": {
    "colab_type": "text",
    "id": "6Yj2nnCF-I9g"
   },
   "source": [
    "This way, we are guaranteed that the file is properly closed even if an exception is raised, causing program flow to stop.\n",
    "\n",
    "The best way to do this is using the with statement. This ensures that the file is closed when the block inside with is exited.\n",
    "\n",
    "We don't need to explicitly call the close() method. It is done internally.\n",
    "\n",
    "with open(\"example.txt\",encoding = 'utf-8') as f:\n",
    "    #perform file operations"
   ]
  },
  {
   "cell_type": "markdown",
   "metadata": {
    "colab_type": "text",
    "id": "rT9YXHm5-I9h"
   },
   "source": [
    "# Writing to a File"
   ]
  },
  {
   "cell_type": "markdown",
   "metadata": {
    "colab_type": "text",
    "id": "7AcveWU--I9i"
   },
   "source": [
    "In order to write into a file we need to open it in **write 'w', append 'a' or exclusive creation 'x' mode**.\n",
    "\n",
    "We need to be careful with the 'w' mode as it will overwrite into the file if it already exists. All previous data are erased.\n",
    "\n",
    "Writing a string or sequence of bytes (for binary files) is done using **write()** method. This method returns the number of characters written to the file."
   ]
  },
  {
   "cell_type": "code",
   "execution_count": 10,
   "metadata": {
    "colab": {},
    "colab_type": "code",
    "id": "E7KJA608-I9j"
   },
   "outputs": [],
   "source": [
    "f = open(\"test.txt\", \"w\")\n",
    "f.write(\"This is a First File\\n\")\n",
    "f.write(\"Contains two lines\\n\")\n",
    "f.close()\n",
    "    \n",
    "    \n",
    "    "
   ]
  },
  {
   "cell_type": "markdown",
   "metadata": {
    "colab_type": "text",
    "id": "hMP_Q5Ky-I9m"
   },
   "source": [
    "This program will create a new file named 'test.txt' if it does not exist. If it does exist, it is overwritten.\n",
    "\n"
   ]
  },
  {
   "cell_type": "markdown",
   "metadata": {
    "colab_type": "text",
    "id": "XAsUdLy_-I9n"
   },
   "source": [
    "# Reading From a File"
   ]
  },
  {
   "cell_type": "markdown",
   "metadata": {
    "colab_type": "text",
    "id": "TaVBxHrK-I9o"
   },
   "source": [
    "There are various methods available for this purpose. We can use the read(size) method to read in size number of data. If size parameter is not specified, it reads and returns up to the end of the file."
   ]
  },
  {
   "cell_type": "code",
   "execution_count": 11,
   "metadata": {
    "colab": {},
    "colab_type": "code",
    "id": "ihVhH_Oz-I9p",
    "outputId": "7368bd94-ee13-4a46-89fa-965562e8ae34"
   },
   "outputs": [
    {
     "data": {
      "text/plain": [
       "'This is a First File\\nContains two lines\\n'"
      ]
     },
     "execution_count": 11,
     "metadata": {},
     "output_type": "execute_result"
    }
   ],
   "source": [
    "f = open(\"test.txt\", \"r\")\n",
    "f.read()"
   ]
  },
  {
   "cell_type": "code",
   "execution_count": 12,
   "metadata": {
    "colab": {},
    "colab_type": "code",
    "id": "uwhOZMfz-I9u",
    "outputId": "a9d0bdcc-b6ee-43b4-f92e-106354ff4cb1"
   },
   "outputs": [
    {
     "data": {
      "text/plain": [
       "'This'"
      ]
     },
     "execution_count": 12,
     "metadata": {},
     "output_type": "execute_result"
    }
   ],
   "source": [
    "f = open(\"test.txt\", \"r\")\n",
    "f.read(4)"
   ]
  },
  {
   "cell_type": "code",
   "execution_count": 13,
   "metadata": {
    "colab": {},
    "colab_type": "code",
    "id": "EOJUJpMs-I9x",
    "outputId": "5eae6dbf-39b9-4b87-f5e0-156c6f283ab2"
   },
   "outputs": [
    {
     "data": {
      "text/plain": [
       "' is a Firs'"
      ]
     },
     "execution_count": 13,
     "metadata": {},
     "output_type": "execute_result"
    }
   ],
   "source": [
    "#f = open(\"test.txt\",\"r\")\n",
    "f.read(10)"
   ]
  },
  {
   "cell_type": "markdown",
   "metadata": {
    "colab_type": "text",
    "id": "gucrvSrD-I90"
   },
   "source": [
    "We can change our current file cursor (position) using the seek() method. \n",
    "\n",
    "Similarly, the **tell()** method returns our current position (in number of bytes)."
   ]
  },
  {
   "cell_type": "code",
   "execution_count": 14,
   "metadata": {
    "colab": {},
    "colab_type": "code",
    "id": "N6Va2QEe-I91",
    "outputId": "d4ffe3ad-0ff6-4134-ecd7-ca39bfebad2c"
   },
   "outputs": [
    {
     "data": {
      "text/plain": [
       "14"
      ]
     },
     "execution_count": 14,
     "metadata": {},
     "output_type": "execute_result"
    }
   ],
   "source": [
    "f.tell()"
   ]
  },
  {
   "cell_type": "code",
   "execution_count": 15,
   "metadata": {
    "colab": {},
    "colab_type": "code",
    "id": "R_yQsOIi-I95",
    "outputId": "74d02e31-16bd-4167-bc1a-7790aac733e4"
   },
   "outputs": [
    {
     "data": {
      "text/plain": [
       "0"
      ]
     },
     "execution_count": 15,
     "metadata": {},
     "output_type": "execute_result"
    }
   ],
   "source": [
    "f.seek(0) #bring the file cursor to initial position"
   ]
  },
  {
   "cell_type": "code",
   "execution_count": 16,
   "metadata": {
    "colab": {},
    "colab_type": "code",
    "id": "2lLZksIh-I9-",
    "outputId": "7bed4899-d0e2-4eca-df4a-848546fb44c4"
   },
   "outputs": [
    {
     "name": "stdout",
     "output_type": "stream",
     "text": [
      "This is a First File\n",
      "Contains two lines\n",
      "\n"
     ]
    }
   ],
   "source": [
    "print(f.read()) #read the entire file"
   ]
  },
  {
   "cell_type": "markdown",
   "metadata": {
    "colab_type": "text",
    "id": "6zmCZQeL-I-D"
   },
   "source": [
    "We can read a file line-by-line using a for loop. This is both efficient and fast."
   ]
  },
  {
   "cell_type": "code",
   "execution_count": 17,
   "metadata": {
    "colab": {},
    "colab_type": "code",
    "id": "QkI5JefZ-I-E",
    "outputId": "4374d164-fa1c-4535-963d-d0df38322a37"
   },
   "outputs": [
    {
     "name": "stdout",
     "output_type": "stream",
     "text": [
      "This is a First File\n",
      "\n",
      "Contains two lines\n",
      "\n"
     ]
    }
   ],
   "source": [
    "f.seek(0)\n",
    "for line in f:\n",
    "    print(line)"
   ]
  },
  {
   "cell_type": "markdown",
   "metadata": {
    "colab_type": "text",
    "id": "uQnQGQII-I-H"
   },
   "source": [
    "Alternately, we can use readline() method to read individual lines of a file. This method reads a file till the newline, including the newline character."
   ]
  },
  {
   "cell_type": "code",
   "execution_count": 18,
   "metadata": {
    "colab": {},
    "colab_type": "code",
    "id": "Mx_WsZ16-I-I",
    "outputId": "ebf72fe4-441e-421f-8ef4-6b0893edd36d"
   },
   "outputs": [
    {
     "data": {
      "text/plain": [
       "'This is a First File\\n'"
      ]
     },
     "execution_count": 18,
     "metadata": {},
     "output_type": "execute_result"
    }
   ],
   "source": [
    "f = open(\"test.txt\", \"r\")\n",
    "f.readline()"
   ]
  },
  {
   "cell_type": "code",
   "execution_count": 19,
   "metadata": {
    "colab": {},
    "colab_type": "code",
    "id": "E8cmYnsB-I-L",
    "outputId": "48f1f5f3-0aee-46ca-be59-792fd827b022",
    "scrolled": true
   },
   "outputs": [
    {
     "data": {
      "text/plain": [
       "'Contains two lines\\n'"
      ]
     },
     "execution_count": 19,
     "metadata": {},
     "output_type": "execute_result"
    }
   ],
   "source": [
    "f.readline()"
   ]
  },
  {
   "cell_type": "code",
   "execution_count": 20,
   "metadata": {
    "colab": {},
    "colab_type": "code",
    "id": "Fwbrlu2D-I-O",
    "outputId": "4b67f2ff-2d62-4d6e-a14b-26ac112d1cb0"
   },
   "outputs": [
    {
     "data": {
      "text/plain": [
       "''"
      ]
     },
     "execution_count": 20,
     "metadata": {},
     "output_type": "execute_result"
    }
   ],
   "source": [
    "f.readline()"
   ]
  },
  {
   "cell_type": "markdown",
   "metadata": {
    "colab_type": "text",
    "id": "dkZ4bgQE-I-S"
   },
   "source": [
    "The **readlines()** method returns a list of remaining lines of the entire file. All these reading method return empty values when end of file (EOF) is reached."
   ]
  },
  {
   "cell_type": "code",
   "execution_count": 21,
   "metadata": {
    "colab": {},
    "colab_type": "code",
    "id": "hDxyjanv-I-T",
    "outputId": "30f803c6-1211-49a5-e0b3-3c5c1c06402b"
   },
   "outputs": [
    {
     "data": {
      "text/plain": [
       "['This is a First File\\n', 'Contains two lines\\n']"
      ]
     },
     "execution_count": 21,
     "metadata": {},
     "output_type": "execute_result"
    }
   ],
   "source": [
    "f.seek(0)\n",
    "f.readlines()"
   ]
  },
  {
   "cell_type": "markdown",
   "metadata": {
    "colab_type": "text",
    "id": "CHI64VRI-I-W"
   },
   "source": [
    "# Renaming And Deleting Files In Python."
   ]
  },
  {
   "cell_type": "markdown",
   "metadata": {
    "colab_type": "text",
    "id": "ddW_Trga-I-X"
   },
   "source": [
    "While you were using the **read/write** functions, you may also need to **rename/delete** a file in Python. So, there comes a **os** module in Python which brings the support of file **rename/delete** operations.\n",
    "\n",
    "So, to continue, first of all, you should import the **os** module in your Python script."
   ]
  },
  {
   "cell_type": "code",
   "execution_count": 22,
   "metadata": {
    "colab": {},
    "colab_type": "code",
    "id": "-91N_Ly9-I-Y"
   },
   "outputs": [],
   "source": [
    "import os\n",
    "\n",
    "#Rename a file from test.txt to sample.txt\n",
    "os.rename(\"test.txt\", \"sample.txt\")"
   ]
  },
  {
   "cell_type": "code",
   "execution_count": 23,
   "metadata": {
    "colab": {},
    "colab_type": "code",
    "id": "ksKnCMAs-I-b",
    "outputId": "4150955e-79f1-47a7-f4de-0e6640e34eb4"
   },
   "outputs": [
    {
     "data": {
      "text/plain": [
       "'This is a First File\\n'"
      ]
     },
     "execution_count": 23,
     "metadata": {},
     "output_type": "execute_result"
    }
   ],
   "source": [
    "f = open(\"sample.txt\", \"r\")\n",
    "f.readline()"
   ]
  },
  {
   "cell_type": "code",
   "execution_count": 24,
   "metadata": {
    "colab": {},
    "colab_type": "code",
    "id": "95_26jr0-I-f"
   },
   "outputs": [],
   "source": [
    "#Delete a file sample.txt\n",
    "os.remove(\"sample.txt\")"
   ]
  },
  {
   "cell_type": "code",
   "execution_count": 25,
   "metadata": {
    "colab": {},
    "colab_type": "code",
    "id": "v2kTYfUY-I-i",
    "outputId": "ff636751-b0ca-4b81-efb0-05b0896c9d57"
   },
   "outputs": [
    {
     "ename": "FileNotFoundError",
     "evalue": "[Errno 2] No such file or directory: 'sample.txt'",
     "output_type": "error",
     "traceback": [
      "\u001b[0;31m---------------------------------------------------------------------------\u001b[0m",
      "\u001b[0;31mFileNotFoundError\u001b[0m                         Traceback (most recent call last)",
      "\u001b[0;32m<ipython-input-25-ef92250cbae3>\u001b[0m in \u001b[0;36m<module>\u001b[0;34m\u001b[0m\n\u001b[0;32m----> 1\u001b[0;31m \u001b[0mf\u001b[0m \u001b[0;34m=\u001b[0m \u001b[0mopen\u001b[0m\u001b[0;34m(\u001b[0m\u001b[0;34m\"sample.txt\"\u001b[0m\u001b[0;34m,\u001b[0m \u001b[0;34m\"r\"\u001b[0m\u001b[0;34m)\u001b[0m\u001b[0;34m\u001b[0m\u001b[0;34m\u001b[0m\u001b[0m\n\u001b[0m\u001b[1;32m      2\u001b[0m \u001b[0mf\u001b[0m\u001b[0;34m.\u001b[0m\u001b[0mreadline\u001b[0m\u001b[0;34m(\u001b[0m\u001b[0;34m)\u001b[0m\u001b[0;34m\u001b[0m\u001b[0;34m\u001b[0m\u001b[0m\n",
      "\u001b[0;31mFileNotFoundError\u001b[0m: [Errno 2] No such file or directory: 'sample.txt'"
     ]
    }
   ],
   "source": [
    "f = open(\"sample.txt\", \"r\")\n",
    "f.readline()"
   ]
  },
  {
   "cell_type": "markdown",
   "metadata": {
    "colab_type": "text",
    "id": "9BTPHgEb-I-m"
   },
   "source": [
    "# Python Directory and File Management"
   ]
  },
  {
   "cell_type": "markdown",
   "metadata": {
    "colab_type": "text",
    "id": "gI0frFSc-I-n"
   },
   "source": [
    "If there are a large number of files to handle in your Python program, you can arrange your code within different directories to make things more manageable.\n",
    "\n",
    "A directory or folder is a collection of files and sub directories. Python has the os module, which provides us with many useful methods to work with directories (and files as well)."
   ]
  },
  {
   "cell_type": "markdown",
   "metadata": {
    "colab_type": "text",
    "id": "RX2Gd4dH-I-o"
   },
   "source": [
    "**Get current Directory**"
   ]
  },
  {
   "cell_type": "markdown",
   "metadata": {
    "colab_type": "text",
    "id": "dXkTmder-I-p"
   },
   "source": [
    "We can get the present working directory using the getcwd() method.\n",
    "\n",
    "This method returns the current working directory in the form of a string. "
   ]
  },
  {
   "cell_type": "code",
   "execution_count": 26,
   "metadata": {
    "colab": {},
    "colab_type": "code",
    "id": "PQQ1bB7K-I-q",
    "outputId": "e5741e90-7351-40cb-822a-1101b0a5b38a"
   },
   "outputs": [
    {
     "data": {
      "text/plain": [
       "'/home/gaurav/Pictures'"
      ]
     },
     "execution_count": 26,
     "metadata": {},
     "output_type": "execute_result"
    }
   ],
   "source": [
    "import os\n",
    "os.getcwd()"
   ]
  },
  {
   "cell_type": "markdown",
   "metadata": {
    "colab_type": "text",
    "id": "NbwyLh4v-I-t"
   },
   "source": [
    "**Changing Directory**"
   ]
  },
  {
   "cell_type": "markdown",
   "metadata": {
    "colab_type": "text",
    "id": "wJYX56-D-I-u"
   },
   "source": [
    "We can change the current working directory using the chdir() method.\n",
    "\n",
    "The new path that we want to change to must be supplied as a string to this method. We can use both forward slash (/) or the backward slash (\\) to separate path elements."
   ]
  },
  {
   "cell_type": "code",
   "execution_count": 31,
   "metadata": {
    "colab": {},
    "colab_type": "code",
    "id": "adRHTncO-I-u",
    "scrolled": true
   },
   "outputs": [
    {
     "ename": "FileNotFoundError",
     "evalue": "[Errno 2] No such file or directory: '/Users/gaurav/'",
     "output_type": "error",
     "traceback": [
      "\u001b[0;31m---------------------------------------------------------------------------\u001b[0m",
      "\u001b[0;31mFileNotFoundError\u001b[0m                         Traceback (most recent call last)",
      "\u001b[0;32m<ipython-input-31-5c0e91b139a2>\u001b[0m in \u001b[0;36m<module>\u001b[0;34m\u001b[0m\n\u001b[0;32m----> 1\u001b[0;31m \u001b[0mos\u001b[0m\u001b[0;34m.\u001b[0m\u001b[0mchdir\u001b[0m\u001b[0;34m(\u001b[0m\u001b[0;34m\"/Users/gaurav/\"\u001b[0m\u001b[0;34m)\u001b[0m\u001b[0;34m\u001b[0m\u001b[0;34m\u001b[0m\u001b[0m\n\u001b[0m",
      "\u001b[0;31mFileNotFoundError\u001b[0m: [Errno 2] No such file or directory: '/Users/gaurav/'"
     ]
    }
   ],
   "source": [
    "os.chdir(\"/Users/gaurav/\")"
   ]
  },
  {
   "cell_type": "code",
   "execution_count": 32,
   "metadata": {
    "colab": {},
    "colab_type": "code",
    "id": "STo5qfdl-I-w",
    "outputId": "80fb501d-e356-4bd6-c8bb-aa17fdc65f7d"
   },
   "outputs": [
    {
     "data": {
      "text/plain": [
       "'/home/gaurav/Pictures'"
      ]
     },
     "execution_count": 32,
     "metadata": {},
     "output_type": "execute_result"
    }
   ],
   "source": [
    "os.getcwd()"
   ]
  },
  {
   "cell_type": "markdown",
   "metadata": {
    "colab_type": "text",
    "id": "GnL096oQ-I-z"
   },
   "source": [
    "**List Directories and Files**"
   ]
  },
  {
   "cell_type": "markdown",
   "metadata": {
    "colab_type": "text",
    "id": "k8VhcECb-I-z"
   },
   "source": [
    "All files and sub directories inside a directory can be known using the listdir() method."
   ]
  },
  {
   "cell_type": "code",
   "execution_count": 33,
   "metadata": {
    "colab": {},
    "colab_type": "code",
    "id": "RMt4M70i-I-0",
    "outputId": "a884c903-1ccf-4fbe-c6d4-9770ce06538b"
   },
   "outputs": [
    {
     "data": {
      "text/plain": [
       "['go1.16.2.linux-amd64.tar.gz',\n",
       " '2021-03-10_20-06-50.png',\n",
       " '2021-02-26_14-19-58.png',\n",
       " '2021-02-12_19-30-30.png',\n",
       " '2021-03-11_20-33-55.jpeg',\n",
       " '2021-03-12_10-20-40.png',\n",
       " '2021-03-13_18-11-12.png',\n",
       " '2021-02-27_18-25-11',\n",
       " '2021-03-08_18-51-04.png',\n",
       " '2021-03-12_10-26-23.png',\n",
       " '2021-03-05_16-00-21',\n",
       " '2021-03-13_17-21-52.png',\n",
       " '2021-03-10_10-01-33.png',\n",
       " '2021-03-11_12-10-38.png',\n",
       " '2021-02-12_19-46-54.png',\n",
       " '2021-03-03_21-41-34.png',\n",
       " '2e758b93-1b04-46af-93f2-e749e580a815.png',\n",
       " 'gphotos-uploader-cli-main (1).zip',\n",
       " '2021-03-05_16-42-19.png',\n",
       " '2021-03-03_21-52-08.png',\n",
       " '7. Solving Ax = 0_ Pivot Variables, Special Solutions 22-24 screenshot.png',\n",
       " '2021-03-08_17-17-02.png',\n",
       " '2021-03-13_18-10-49.png',\n",
       " '2021-03-08_11-09-30.png',\n",
       " '2021-03-13_09-49-11.png',\n",
       " '2021-03-11_15-14-22.png',\n",
       " '2021-02-18_16-33-29.png',\n",
       " '2021-03-08_19-01-40.png',\n",
       " '2021-03-04_18-45-55.png',\n",
       " '2021-03-14_14-47-19.png',\n",
       " '2021-03-13_17-11-26.png',\n",
       " '2021-03-10_19-29-47.png',\n",
       " '2021-02-26_10-57-30.png',\n",
       " '2021-02-26_13-21-35.png',\n",
       " '2021-03-03_21-36-59.png',\n",
       " '2021-03-10_19-41-09.png',\n",
       " '2021-03-10_11-51-31.png',\n",
       " '2021-03-03_21-28-03.png',\n",
       " '2021-03-01_18-19-44.png',\n",
       " '2021-03-10_19-35-44.png',\n",
       " '2021-03-10_19-20-42.png',\n",
       " '2021-03-10_09-58-03.png',\n",
       " '2021-02-19_21-07-10.png',\n",
       " '2021-03-08_19-09-11.png',\n",
       " '2021-03-10_19-47-40.png',\n",
       " '2021-03-13_18-50-41.png',\n",
       " '2021-03-04_17-47-13.png',\n",
       " '2021-03-10_10-57-32.png',\n",
       " '2021-02-25_11-53-53.png',\n",
       " '_filename__00_06_16.m_2021-03-14-20h17m18s137.png',\n",
       " '2021-02-26_15-34-43.png',\n",
       " 'test',\n",
       " '2021-03-05_15-50-55.png',\n",
       " '2021-03-08_17-57-34.png',\n",
       " '2021-03-13_17-28-40.png',\n",
       " 'File_IO (1).ipynb',\n",
       " '2021-03-04_18-47-43.png',\n",
       " '2021-02-12_19-29-22.png',\n",
       " '2021-02-18_16-21-36.png',\n",
       " '2021-03-05_16-42-06.png',\n",
       " '2021-03-04_17-01-54.png',\n",
       " '2021-03-08_15-20-18.png',\n",
       " '2021-03-10_20-01-45.png',\n",
       " 'Screenshots',\n",
       " '2021-03-05_15-53-41.png',\n",
       " '2021-02-26_16-03-23.png',\n",
       " '2021-02-26_14-19-46.png',\n",
       " '2021-02-20_13-44-34.png',\n",
       " '2021-03-10_19-24-33.png',\n",
       " '2021-03-08_09-48-50.png',\n",
       " '2021-03-10_10-27-56.png',\n",
       " '2021-03-13_17-49-26.png',\n",
       " '2021-03-04_17-38-11.png',\n",
       " '2021-02-26_11-47-43.png',\n",
       " '2021-03-10_09-58-49.png',\n",
       " '6ee96d38-03dd-4464-91e6-42fd158b4402.png',\n",
       " '2021-03-02_17-37-24.png',\n",
       " '2021-03-13_17-48-43.png',\n",
       " '2021-02-26_10-25-49.png',\n",
       " '2021-02-27_18-28-49',\n",
       " 'hqdefault (1).webp',\n",
       " '2021-02-27_10-41-22',\n",
       " '2021-02-19_16-41-58.png',\n",
       " '2021-03-04_17-41-01.png',\n",
       " '2021-03-10_10-42-29.png',\n",
       " '2021-03-14_19-24-52.png',\n",
       " '@csalgo Telegram_00_06_16.m_2021-03-14-20h18m41s887.png',\n",
       " '2021-03-10_09-40-04.png',\n",
       " '2021-03-08_15-18-46.png',\n",
       " '2021-03-13_17-14-25.png',\n",
       " '2021-03-10_09-52-22.png',\n",
       " '2021-03-10_10-58-04.png',\n",
       " '2021-03-03_13-46-07.png',\n",
       " '2021-03-08_17-39-58.png',\n",
       " '2021-03-09_09-55-37.png',\n",
       " '2021-02-26_10-37-52.png',\n",
       " '2021-03-13_18-50-36.png',\n",
       " '2021-02-27_10-15-40',\n",
       " '2021-02-26_16-23-53.png',\n",
       " 'vlcsnap-2021-03-14-20h10m46s388.png',\n",
       " '2021-03-01_19-03-03.png',\n",
       " '2021-03-08_17-31-17.png',\n",
       " '2021-02-20_14-54-15.png',\n",
       " '2021-03-10_19-36-58.png',\n",
       " '0_kKXP40kBpzgqi_Zj.gif',\n",
       " '1_IGFnyVy5fESEQ4bOc1rlCg (1).png',\n",
       " '2021-02-27_17-19-49',\n",
       " '2021-03-13_10-21-45.png',\n",
       " '2021-03-05_15-34-38',\n",
       " '2021-03-09_09-45-13.png',\n",
       " 'vlcsnap-2021-03-14-20h10m49s204.png',\n",
       " '2021-03-10_10-46-05.png',\n",
       " '2021-03-13_10-24-03.png',\n",
       " '2021-03-11_15-14-32.png',\n",
       " '2021-03-08_17-01-31.png',\n",
       " '2021-03-05_16-30-05.png',\n",
       " '2021-03-08_19-12-52.png',\n",
       " '2021-03-11_19-32-24.png',\n",
       " '2021-03-08_17-11-42.png',\n",
       " '2021-03-08_17-38-02.png',\n",
       " '2021-03-13_19-10-40.png',\n",
       " '2021-02-22_18-19-23.png',\n",
       " '2021-02-19_14-03-13.png',\n",
       " '2021-02-26_15-59-29.png',\n",
       " '2021-03-08_17-44-39.png',\n",
       " '2021-03-06_09-47-35.png',\n",
       " '2021-03-10_19-33-01.png',\n",
       " '2021-03-08_15-01-12.png',\n",
       " '2021-02-26_20-42-15.png',\n",
       " '2021-03-04_17-02-25.png',\n",
       " '2021-03-11_18-41-57.png',\n",
       " '2021-03-13_18-48-24.png',\n",
       " '2021-03-13_09-42-16.png',\n",
       " '2021-03-13_18-04-57.png',\n",
       " '2021-03-08_18-23-19.png',\n",
       " '2021-03-13_18-50-42.png',\n",
       " '2021-03-10_10-40-00.png',\n",
       " '@csalgo_00_02_47.m00001.png',\n",
       " '2021-02-20_09-05-38.png',\n",
       " '2021-03-10_19-43-30.png',\n",
       " '2021-02-26_14-20-20.png',\n",
       " '2021-03-04_18-10-04.png',\n",
       " '2021-03-10_12-05-25.png',\n",
       " '2021-03-10_19-27-36.png',\n",
       " '2021-03-10_10-09-25.png',\n",
       " '2021-03-10_10-45-21.png',\n",
       " '2021-02-19_14-36-48.png',\n",
       " 'hqdefault (2).webp',\n",
       " '2021-03-05_15-33-11',\n",
       " '2021-02-23_13-06-48.png',\n",
       " '2021-03-05_15-50-32.png',\n",
       " '2021-03-13_18-45-02.png',\n",
       " '2021-03-14_10-15-36.png',\n",
       " '2021-03-10_09-51-08.png',\n",
       " '2021-03-03_21-40-33.png',\n",
       " '2021-03-10_10-57-08.png',\n",
       " '2021-03-08_19-01-10.png',\n",
       " '2021-03-01_19-54-52.png',\n",
       " '2021-03-14_19-17-42.png',\n",
       " '2021-03-05_13-53-46.png',\n",
       " '2021-02-27_10-41-18',\n",
       " '2021-03-10_10-03-05.png',\n",
       " '2021-03-10_19-19-18.png',\n",
       " '2021-03-13_18-50-51.png',\n",
       " '2021-03-12_10-56-55.png',\n",
       " 'File_IO.ipynb',\n",
       " '1BYZHXVI0aTuzp_OsbfKjkg.jpeg',\n",
       " '2021-03-03_21-09-08.png',\n",
       " '2021-02-28_10-48-07.png',\n",
       " '2021-03-03_21-01-29.png',\n",
       " '2021-02-27_10-12-19.png',\n",
       " '2021-03-12_09-38-17.png',\n",
       " '2021-02-28_21-12-47.png',\n",
       " '2021-03-08_18-20-23.png',\n",
       " '2021-03-13_18-06-09.png',\n",
       " '2021-02-26_16-18-33.png',\n",
       " '2021-03-02_20-06-12.png',\n",
       " '2021-02-12_19-46-32.png',\n",
       " '2021-02-22_19-03-44.png',\n",
       " '2021-03-13_14-20-42.png',\n",
       " '2021-03-08_17-20-53.png',\n",
       " '2021-03-03_21-53-32.png',\n",
       " '2021-02-26_16-49-36.png',\n",
       " '2021-02-28_21-18-27',\n",
       " '2021-03-08_15-20-50.png',\n",
       " '2021-03-03_21-38-29.png',\n",
       " '2021-03-04_20-01-17.png',\n",
       " '2021-02-26_10-16-55.png',\n",
       " '2021-03-12_09-58-17.png',\n",
       " '@csalgo Telegram_00_06_16.m_2021-03-14-20h18m47s677.png',\n",
       " '2021-03-10_09-54-31.png',\n",
       " '2021-03-08_18-19-03.png',\n",
       " '2021-02-19_19-27-41.png',\n",
       " '2021-03-13_17-19-31.png',\n",
       " '2021-02-26_16-04-28.png',\n",
       " '2021-02-19_15-01-49.png',\n",
       " '2021-03-03_21-09-50.png',\n",
       " '2021-03-03_21-51-08.png',\n",
       " '2021-03-02_18-01-06.png',\n",
       " '2021-03-14_16-06-07.png',\n",
       " '2021-03-13_19-18-43.png',\n",
       " '2021-03-13_19-05-30.png',\n",
       " '2021-03-10_10-26-34.png',\n",
       " '2021-03-05_14-57-34.png',\n",
       " '2021-02-26_16-16-49.png',\n",
       " '2021-02-26_10-13-24.png',\n",
       " '2021-03-08_09-48-32.png',\n",
       " '2021-03-13_17-48-26.png',\n",
       " '2021-03-10_10-08-51.png',\n",
       " '2021-02-26_16-22-27.png',\n",
       " '2021-03-10_19-46-23.png',\n",
       " '2021-03-14_16-05-59.png',\n",
       " '2021-03-03_21-46-03.png',\n",
       " '2021-03-11_18-37-06.png',\n",
       " '2021-02-27_15-47-08.png',\n",
       " '2021-02-22_14-22-26.png',\n",
       " '2021-02-28_12-48-34',\n",
       " '2021-03-08_19-03-54.png',\n",
       " '2021-03-14_19-29-19.png',\n",
       " '2021-03-13_17-49-45.png',\n",
       " '2021-02-19_14-00-40.png',\n",
       " '2021-03-13_17-46-28.png',\n",
       " '2021-03-14_10-15-04.png',\n",
       " '2021-02-26_14-20-27.png',\n",
       " '2021-03-08_19-06-04.png',\n",
       " '2021-03-03_21-10-20.png',\n",
       " '2021-02-20_18-44-30.png',\n",
       " '2021-03-13_18-54-05.png',\n",
       " '2021-02-28_10-50-31.png',\n",
       " '2021-02-26_16-47-48.png',\n",
       " '2021-03-08_17-37-55.png',\n",
       " '2021-03-01_18-52-13.png',\n",
       " '2021-02-26_13-21-44.png',\n",
       " '2021-03-01_21-47-54.png',\n",
       " '2021-03-01_15-26-35.png',\n",
       " '2021-02-26_16-14-49.png',\n",
       " '2021-02-26_20-10-27.png',\n",
       " '2021-02-26_15-57-57.png',\n",
       " '2021-03-03_15-13-50.png',\n",
       " '2021-03-03_21-35-10.png',\n",
       " '2021-03-02_17-38-00.png',\n",
       " '2021-02-19_21-06-12.png',\n",
       " '2021-03-08_15-20-35.png',\n",
       " '2021-02-12_19-22-46.png',\n",
       " '2021-02-19_14-45-46.png',\n",
       " '2021-02-22_19-18-14.png',\n",
       " '2021-03-10_11-05-13.png',\n",
       " '2021-02-22_11-37-54.png',\n",
       " '2021-02-18_16-16-34.png',\n",
       " '2021-03-13_17-20-27.png',\n",
       " '2021-03-10_19-31-39.png',\n",
       " '2021-02-26_10-14-34.png',\n",
       " '2021-02-26_16-15-48.png',\n",
       " '2021-03-10_10-58-39.png',\n",
       " '2021-02-27_11-30-15.png',\n",
       " '2021-03-12_18-05-32.png',\n",
       " '2021-03-13_17-46-24.png',\n",
       " '2021-03-06_14-18-30.png',\n",
       " '2021-02-26_10-59-03.png',\n",
       " '2021-02-26_16-20-45.png',\n",
       " '2021-03-12_20-46-17.png',\n",
       " '2021-03-09_18-21-56.png',\n",
       " '7. Solving Ax = 0_ Pivot Variables, Special Solutions 21-4 screenshot.png',\n",
       " '2021-03-11_19-50-12.png',\n",
       " '2021-03-10_19-15-36.png',\n",
       " '2021-03-08_19-08-03.png',\n",
       " '2021-03-01_18-26-09.png',\n",
       " '2021-02-27_11-32-17',\n",
       " '2021-03-10_20-03-07.png',\n",
       " '2021-03-13_17-51-16.png',\n",
       " '2021-03-10_19-47-36.png',\n",
       " '2021-03-09_16-24-08.png',\n",
       " '2021-03-08_15-05-37.jpeg',\n",
       " '2021-03-05_16-12-43.png',\n",
       " '7. Solving Ax = 0_ Pivot Variables, Special Solutions 19-30 screenshot.png',\n",
       " '2021-03-10_19-16-58.png',\n",
       " '2021-03-12_09-50-37.png',\n",
       " '2021-03-09_10-03-55.png',\n",
       " '2021-03-13_18-14-44.png',\n",
       " '2021-02-19_16-56-48.jpeg',\n",
       " '2021-03-09_11-51-36.png',\n",
       " '2021-03-10_14-10-56.png',\n",
       " '2021-03-08_18-19-47.png',\n",
       " '2021-03-13_17-52-45.png',\n",
       " '2021-03-02_08-57-48.png',\n",
       " '7. Solving Ax = 0_ Pivot Variables, Special Solutions 22-9 screenshot.png',\n",
       " '2021-03-04_17-47-30.png',\n",
       " '2021-02-26_16-21-49.png',\n",
       " '2021-02-27_10-16-02.png',\n",
       " '2021-03-04_18-06-39.png',\n",
       " '2021-03-10_09-59-00.png',\n",
       " '2021-03-10_18-53-03.jpeg',\n",
       " '2021-03-04_17-45-05.png',\n",
       " 'vlcsnap-2021-03-14-20h10m47s942.png',\n",
       " '2021-02-19_19-27-46.png',\n",
       " '2021-03-08_17-09-08.png',\n",
       " '2021-03-05_16-29-40',\n",
       " '2021-03-08_17-32-16.png',\n",
       " '2021-03-14_09-39-57.png',\n",
       " '2021-03-12_18-02-01.png',\n",
       " '2021-03-08_19-04-20.png',\n",
       " '2021-03-04_09-38-48.png',\n",
       " '2021-03-03_21-11-39.png',\n",
       " '2021-02-27_17-10-23.png',\n",
       " '2021-02-26_17-05-21.png',\n",
       " '2021-03-08_15-21-29.png',\n",
       " '2021-03-03_21-25-53.png',\n",
       " '2021-03-10_09-41-14.png',\n",
       " '2021-03-09_16-13-08.png',\n",
       " '2021-02-20_14-59-23.png',\n",
       " '2021-02-23_15-36-03.png',\n",
       " '2021-03-10_10-03-44.png',\n",
       " '2021-03-13_17-16-20.png',\n",
       " '2021-03-10_09-46-38.png',\n",
       " '2021-03-10_10-22-47.png',\n",
       " '2021-03-10_09-48-49.png',\n",
       " '2021-03-01_11-44-30.png',\n",
       " '2021-03-08_18-20-24.png',\n",
       " '@csalgo_00_02_47.m2021-03-15-12h00m59s450.png',\n",
       " '2021-03-10_19-50-44.png',\n",
       " '2021-03-10_09-25-38.png',\n",
       " '2021-02-27_17-10-32.png',\n",
       " '2021-03-08_17-18-57.png',\n",
       " '@csalgo Telegram_00_06_16.m_2021-03-14-20h22m59s060.png',\n",
       " '2021-02-27_15-34-48.png',\n",
       " '2021-02-27_18-29-01.png',\n",
       " '2021-02-28_14-41-29.png',\n",
       " '2021-02-26_10-59-38.png',\n",
       " '2021-03-09_09-54-59.png',\n",
       " '2021-03-10_19-43-31.png',\n",
       " '@csalgo Telegram_00_06_16.m_2021-03-14-20h18m46s239.png',\n",
       " '2021-03-09_14-33-38.png',\n",
       " '2021-02-18_16-28-27.png',\n",
       " '2021-03-06_19-34-26.png',\n",
       " '2021-02-19_13-14-50.png',\n",
       " '2021-03-08_17-33-09.png',\n",
       " '2021-03-01_21-49-23.png',\n",
       " '2021-03-03_21-42-47.png',\n",
       " '2021-02-28_12-52-33.png',\n",
       " '2021-02-27_15-30-12.png',\n",
       " '2021-03-03_21-50-22.png',\n",
       " '2021-02-22_18-13-43.png',\n",
       " '2021-03-12_09-12-17.png',\n",
       " '2021-03-01_15-33-01.png',\n",
       " '2021-03-12_10-16-38.png',\n",
       " '2021-03-06_09-50-48.png',\n",
       " '2021-03-03_21-43-57.png',\n",
       " '2021-03-03_21-49-28.png',\n",
       " '2021-03-10_11-06-05.png',\n",
       " '2021-03-10_10-26-50.png',\n",
       " '2021-02-27_10-52-54.png',\n",
       " '2021-03-10_10-40-26.png',\n",
       " '_filename__00_06_16.m_2021-03-14-20h17m13s643.png',\n",
       " '2021-03-08_17-49-48.png',\n",
       " '2021-03-05_15-33-14',\n",
       " '2021-03-10_19-17-53.png',\n",
       " '2021-02-20_17-02-16.png',\n",
       " '_filename__00_06_16.m_2021-03-14-20h17m16s774.png',\n",
       " '2021-03-08_17-17-51.png',\n",
       " '2021-03-12_10-25-40.png',\n",
       " '2021-02-26_10-38-52.png',\n",
       " '2021-03-11_15-29-37.jpeg',\n",
       " '2021-02-20_14-59-11.png',\n",
       " '2021-02-26_15-32-52.png',\n",
       " '2021-03-01_18-08-04.png',\n",
       " '2021-02-26_16-48-18.png',\n",
       " '2021-03-03_21-28-24.png',\n",
       " '2021-02-26_16-00-34.png',\n",
       " '2021-03-10_19-38-57.png',\n",
       " '2021-02-23_16-44-37.png',\n",
       " '2021-03-03_21-41-48.png',\n",
       " '2021-03-10_19-25-04.png',\n",
       " '2021-03-12_09-46-46.png',\n",
       " '2021-03-05_14-59-40.png',\n",
       " 'mqdefault_6s.webp',\n",
       " '2021-03-08_17-56-32.png',\n",
       " '2021-03-11_18-37-00.png',\n",
       " '2021-03-13_18-47-06.png',\n",
       " '2021-03-13_18-00-05.png',\n",
       " '2021-02-20_17-58-10.png',\n",
       " '2021-03-04_18-05-10.png',\n",
       " '2021-03-08_10-01-15.png',\n",
       " '2021-02-27_15-30-36.png',\n",
       " '2021-03-15_16-58-05.png',\n",
       " '2021-02-19_16-52-13.png',\n",
       " '2021-03-10_09-57-12.png',\n",
       " '2021-03-03_21-32-39.png',\n",
       " '2021-03-04_18-14-46.png',\n",
       " '2021-03-09_20-12-37.png',\n",
       " '2021-02-12_19-29-59.png',\n",
       " '2021-03-08_18-21-49.png',\n",
       " '2021-02-26_16-22-49.png',\n",
       " '2021-03-13_10-30-55.png',\n",
       " '2021-03-11_11-26-49.png',\n",
       " '2021-03-08_17-38-31.png',\n",
       " '2021-03-10_12-02-57.png',\n",
       " '2021-02-12_21-15-25.png',\n",
       " '2021-03-06_19-32-00.png',\n",
       " '2021-03-01_21-44-09.png',\n",
       " '2021-02-26_14-13-52.png',\n",
       " '2021-03-03_17-47-20.png',\n",
       " '2021-03-13_17-06-20.png',\n",
       " '2021-03-03_21-27-06.png',\n",
       " '2021-03-08_15-14-46.png',\n",
       " '2021-03-08_15-17-20.png',\n",
       " '2021-03-12_09-12-18.png',\n",
       " '2021-02-19_16-53-32.png',\n",
       " '2021-02-27_21-35-03.png',\n",
       " '@csalgo_00_02_47.m2021-03-15-12h01m01s627.png',\n",
       " '2021-02-19_14-01-16.png',\n",
       " '2021-02-19_13-37-41.png',\n",
       " '2021-02-19_09-20-11.png',\n",
       " '2021-03-13_17-19-46.png',\n",
       " '2021-03-08_15-05-40.jpeg',\n",
       " '2021-03-06_09-51-57.png',\n",
       " '2021-02-28_10-47-20.png',\n",
       " '2021-03-13_10-29-29.png',\n",
       " '2021-02-28_19-37-16',\n",
       " '2021-03-03_21-44-21.png',\n",
       " '2021-03-08_15-01-20.png',\n",
       " '2021-03-08_17-53-52.png',\n",
       " '2021-03-03_21-38-23.png',\n",
       " '2021-03-05_16-03-13',\n",
       " '2021-03-11_20-39-26.png',\n",
       " '2021-02-28_10-47-56.png',\n",
       " '2021-02-26_11-45-26.png',\n",
       " '2021-02-27_10-41-58',\n",
       " '2021-03-05_16-25-38.png',\n",
       " '2021-02-26_10-15-38.png',\n",
       " '@csalgo_00_08_07.m2021-03-15-11h57m51s800.png',\n",
       " '2021-02-27_17-10-40.png',\n",
       " '2021-03-08_18-24-03.png',\n",
       " '2021-03-06_15-06-48.jpeg',\n",
       " '7. Solving Ax = 0_ Pivot Variables, Special Solutions 29-17 screenshot.png',\n",
       " '2021-03-06_09-53-52.png',\n",
       " '2021-02-26_16-19-01.png',\n",
       " '2021-03-06_09-54-10.png',\n",
       " '2021-03-11_14-48-17.png',\n",
       " '2021-03-10_10-24-47.png',\n",
       " '2021-03-12_10-16-34.png',\n",
       " '2021-03-08_17-34-09.png',\n",
       " '2021-03-10_09-56-39.png',\n",
       " '2021-03-10_19-51-30.png',\n",
       " '2021-03-13_17-30-07.png',\n",
       " '2021-02-28_12-52-02',\n",
       " '@csalgo_00_02_49.m00002.png',\n",
       " '2021-03-11_19-29-47.png',\n",
       " '2021-03-13_18-52-12.png',\n",
       " '@csalgo Telegram_00_06_16.m_2021-03-14-20h23m03s639.png',\n",
       " '2021-02-26_11-00-14.png',\n",
       " '2021-03-01_12-01-56.png',\n",
       " '2021-03-04_09-16-47.png',\n",
       " '2021-03-08_17-15-43.png',\n",
       " '2021-03-08_17-15-37.png',\n",
       " '2021-03-11_19-44-50.png',\n",
       " '2021-02-27_15-30-40.png',\n",
       " '2021-03-10_10-02-22.png',\n",
       " '2021-02-28_10-49-47.png',\n",
       " '2021-03-03_21-43-24.png',\n",
       " '2021-03-10_09-37-52.png',\n",
       " 'bbf0019a-345b-4e19-bc3c-2a4bef4b8254.png.png',\n",
       " '2021-03-13_17-27-32.png',\n",
       " 'ccf7393a-cb30-4ce1-a5f7-f635f8e3f87e.png',\n",
       " '2021-03-01_11-44-13',\n",
       " '2021-02-26_10-17-03.png',\n",
       " '2021-03-10_10-39-35.png',\n",
       " '2021-03-08_17-46-14.png',\n",
       " '2021-02-26_17-05-09.png',\n",
       " '2021-02-26_11-45-33.png',\n",
       " '2021-03-10_19-21-46.png',\n",
       " '2021-03-11_14-50-15.png',\n",
       " '2021-02-26_16-16-33.png',\n",
       " '2021-03-13_18-10-26.png',\n",
       " '2021-03-05_14-58-25.png',\n",
       " '2021-02-26_16-15-12.png',\n",
       " '2021-03-12_17-54-35.png',\n",
       " '2021-03-05_16-05-50.png',\n",
       " '2021-02-25_11-34-03.png',\n",
       " '2021-03-12_09-48-44.png',\n",
       " '2021-03-02_17-26-08.png',\n",
       " '2021-03-10_11-09-00.png',\n",
       " '2021-02-26_17-06-41.png',\n",
       " '2021-02-23_13-11-19.png',\n",
       " '2021-03-13_19-02-05.png',\n",
       " '2021-03-10_10-09-00.png',\n",
       " '2021-03-11_18-37-12.png',\n",
       " '2021-03-09_10-01-27.png',\n",
       " '2021-02-19_16-54-30.png',\n",
       " '2021-03-12_09-42-58.png',\n",
       " '2021-03-11_21-05-41.png',\n",
       " '2021-03-09_11-40-10.png',\n",
       " '2021-03-05_16-04-19.png',\n",
       " '2021-02-23_15-38-19.png',\n",
       " '2021-03-13_18-49-54.png',\n",
       " '2021-03-12_09-59-25.png',\n",
       " '2021-02-26_13-18-49.png',\n",
       " '2021-03-11_19-58-56.png',\n",
       " '2021-03-12_10-22-58.png',\n",
       " '2021-03-08_15-05-56.jpeg',\n",
       " '6d2a27d4-e588-4fba-bb6b-c7543fc499eb.png',\n",
       " '2021-03-10_10-11-17.png',\n",
       " '2021-03-03_21-10-28.png',\n",
       " '2021-02-26_10-39-35.png',\n",
       " '538f724c-0b1b-4ec9-a3e8-efb39f10461c.png',\n",
       " '2021-03-05_15-51-42.png',\n",
       " '2021-03-08_17-54-04.png',\n",
       " '2021-03-05_15-36-44.png',\n",
       " '2021-03-08_18-16-53.png',\n",
       " '2021-03-13_17-20-33.png',\n",
       " '@csalgo_00_02_44.m2021-03-15-12h00m55s828.png',\n",
       " '2021-02-26_11-00-52.png',\n",
       " '2021-03-06_19-41-20.png',\n",
       " '2021-03-13_18-44-41.png',\n",
       " '2021-03-02_10-59-45.png',\n",
       " '2021-03-08_15-05-31.jpeg',\n",
       " '2021-03-06_19-38-07.png',\n",
       " '2021-03-10_09-44-21.png',\n",
       " '2021-02-27_10-52-36',\n",
       " '2021-03-12_10-27-18.png',\n",
       " '2021-03-13_09-45-22.png',\n",
       " '2021-03-12_09-47-34.png',\n",
       " '2021-02-26_16-43-30.png',\n",
       " '2021-03-10_10-05-12.png',\n",
       " '2021-03-08_18-25-11.png',\n",
       " '1_IGFnyVy5fESEQ4bOc1rlCg (3).png',\n",
       " '@csalgo Telegram_00_06_16.m_2021-03-14-20h23m01s773.png',\n",
       " '2021-03-10_09-37-12.png',\n",
       " '2021-03-04_17-39-10.png',\n",
       " '2021-03-08_17-41-23.png',\n",
       " '2021-02-20_16-46-50.png',\n",
       " '2021-03-13_17-33-31.png',\n",
       " '2021-03-06_09-47-59.png',\n",
       " '2021-03-12_09-59-31.png',\n",
       " '2021-03-01_19-57-31.png',\n",
       " 'hqdefault.webp',\n",
       " '2021-03-10_10-06-02.png',\n",
       " '@csalgo Telegram_00_06_16.m_2021-03-14-20h23m00s415.png',\n",
       " 'vlcsnap-2021-03-14-20h13m03s792.png',\n",
       " '2021-03-15_09-52-50.png',\n",
       " '2021-03-10_10-21-41.png',\n",
       " '2021-03-01_13-38-23',\n",
       " '2021-03-08_17-41-50.png',\n",
       " '2021-02-12_19-32-53.png',\n",
       " '2021-03-06_19-41-52.png',\n",
       " 'MEGA-RECOVERYKEY.txt',\n",
       " '2021-03-10_20-03-55.png',\n",
       " '2021-03-09_09-55-10.png',\n",
       " '1_IGFnyVy5fESEQ4bOc1rlCg (2).png',\n",
       " '2021-03-06_09-48-46.png',\n",
       " '2021-03-10_10-43-49.png',\n",
       " '2021-02-26_10-15-30.png',\n",
       " '2021-02-19_14-03-55.png',\n",
       " '2021-03-06_19-33-08.png',\n",
       " '2021-03-06_09-50-07.png',\n",
       " 'vlcsnap-2021-03-14-20h10m39s395.png',\n",
       " '2021-03-03_13-49-13.png',\n",
       " '2021-03-10_10-46-22.png',\n",
       " '2021-03-10_19-41-13.png',\n",
       " '2021-03-05_13-54-37.png',\n",
       " '2021-03-10_09-55-12.png',\n",
       " '8eaeff35-dc6c-411f-8caf-aa84f12dbebd.png',\n",
       " '2021-03-03_11-54-42.png',\n",
       " '2021-02-22_10-06-51.png',\n",
       " '2021-03-05_16-01-16',\n",
       " '2021-03-03_21-42-02.png',\n",
       " '2021-02-27_15-30-20.png',\n",
       " '2021-03-12_19-57-39.png',\n",
       " '2021-03-13_20-06-03.png',\n",
       " '2021-03-03_21-33-32.png',\n",
       " '2021-02-27_11-24-54.png',\n",
       " '2021-03-11_20-20-45.png',\n",
       " '2021-03-08_15-19-14.png',\n",
       " '2021-03-03_09-44-05.png',\n",
       " '2021-03-12_11-29-19.png',\n",
       " '2021-03-13_17-17-43.png',\n",
       " '2021-02-28_12-50-41.png',\n",
       " '2021-03-10_19-19-51.png',\n",
       " '2021-03-13_17-12-44.png',\n",
       " '2021-03-03_14-26-15.png',\n",
       " '2021-02-24_12-43-19.png',\n",
       " '2021-02-26_11-44-50.png',\n",
       " '2021-03-11_14-50-12.png',\n",
       " '2021-02-26_16-23-29.png',\n",
       " '2021-02-26_16-16-02.png',\n",
       " '2021-02-28_13-28-46.png',\n",
       " '2021-03-11_19-17-29.png',\n",
       " '2021-03-10_19-20-10.png',\n",
       " '2021-03-05_15-00-15.png',\n",
       " '2021-02-27_17-12-17',\n",
       " '2021-03-03_21-09-41.png',\n",
       " '2021-03-04_09-15-04.png',\n",
       " '2021-03-04_18-04-08.png',\n",
       " '.debris',\n",
       " '2021-03-08_17-20-46.png',\n",
       " '2021-02-26_15-45-33',\n",
       " 'vlcsnap-2021-03-14-20h10m42s503.png',\n",
       " '2021-03-13_17-23-20.png',\n",
       " '2021-03-09_16-08-52.png',\n",
       " '2021-03-01_14-45-30.png',\n",
       " '2021-03-10_19-35-30.png',\n",
       " '2021-02-25_21-56-49.png',\n",
       " '2021-03-08_14-53-11.png',\n",
       " '2021-02-26_16-50-20.png',\n",
       " '1_IGFnyVy5fESEQ4bOc1rlCg.png',\n",
       " '2021-03-05_15-02-47.png',\n",
       " 'bf5e444e-567a-47d8-b398-58d2c22aa04c.png',\n",
       " '2021-02-20_11-25-52.png',\n",
       " '2021-03-08_18-19-37.png',\n",
       " '2021-03-10_09-36-04.png',\n",
       " '2021-03-12_19-03-38.png',\n",
       " '2021-03-12_10-24-55.png',\n",
       " '2021-02-27_15-34-56.png',\n",
       " '2021-03-11_11-49-47.png',\n",
       " '2021-03-10_20-06-01.png',\n",
       " '2021-03-09_11-49-01.png',\n",
       " '2021-03-10_19-28-36.png',\n",
       " '2021-02-26_11-50-49.png',\n",
       " '2021-03-09_11-44-25.png',\n",
       " '2021-02-26_15-34-14.png',\n",
       " '2021-02-28_19-17-24.png',\n",
       " '2021-03-10_19-19-42.png',\n",
       " '2021-03-13_18-03-39.png',\n",
       " '2021-03-08_15-12-46.png',\n",
       " '2021-03-03_21-47-55.png',\n",
       " '2021-02-28_10-49-13.png',\n",
       " '2021-03-11_19-18-15.png',\n",
       " '2021-03-10_09-36-23.png',\n",
       " '2021-02-12_19-46-42.png',\n",
       " '2021-03-09_11-42-22.png',\n",
       " '2021-03-01_18-51-49.png',\n",
       " '2021-02-23_15-37-33.png',\n",
       " '2021-03-08_18-20-33.png',\n",
       " '2021-03-11_11-49-57.png',\n",
       " '2021-03-08_17-03-38.png',\n",
       " '2021-03-10_10-25-56.png',\n",
       " 'INFORMATION BROCHURE- 2021_22.pdf',\n",
       " 'vlcsnap-2021-03-14-20h10m43s961.png',\n",
       " '2021-03-08_16-30-16.png',\n",
       " '2021-03-10_19-34-05.png',\n",
       " '2021-03-01_15-28-12.png',\n",
       " '2021-03-12_11-51-42.png',\n",
       " '2021-02-22_13-45-39.png',\n",
       " '2021-03-14_19-50-19.png',\n",
       " 'gphotos-uploader-cli-main.zip',\n",
       " '2021-03-10_19-38-06.png',\n",
       " '2021-03-06_09-46-41.png',\n",
       " '2021-02-27_10-15-38',\n",
       " '2021-03-12_18-14-15.png',\n",
       " '2021-02-26_10-16-31.png',\n",
       " '2021-03-12_11-51-35.png',\n",
       " '2021-02-26_15-38-47.png',\n",
       " '2021-02-23_15-35-56.png',\n",
       " '2021-02-26_10-59-35.png',\n",
       " '2021-03-02_12-03-27.png',\n",
       " '2021-03-01_18-55-33.png',\n",
       " '2021-03-09_18-12-00.jpeg',\n",
       " '7cf52676-d2db-4ab1-8d52-19b971e467d8.png',\n",
       " '2021-03-08_18-50-08.png',\n",
       " '2021-03-13_19-03-40.png',\n",
       " '2021-03-06_12-55-59.png',\n",
       " '2021-02-26_14-19-34.png',\n",
       " '2021-02-20_14-59-19.png',\n",
       " '2021-03-10_19-21-53.png',\n",
       " '2021-02-23_15-14-06.png',\n",
       " '2021-03-08_18-53-51.png',\n",
       " '2021-02-27_18-18-49.png',\n",
       " '2021-03-09_11-40-30.png',\n",
       " '2021-03-10_10-23-13.png',\n",
       " '7. Solving Ax = 0_ Pivot Variables, Special Solutions 25-0 screenshot.png',\n",
       " '2021-03-05_15-05-16.png',\n",
       " '2021-03-12_09-43-59.png',\n",
       " '2021-03-13_19-06-31.png',\n",
       " '2021-02-25_11-53-16.png',\n",
       " '2021-03-11_12-10-33.png',\n",
       " '2021-03-08_15-22-58.png',\n",
       " '2021-03-05_13-45-39.png',\n",
       " '2021-03-06_19-33-50.png',\n",
       " '2021-03-01_18-52-23.png',\n",
       " '2021-03-11_16-58-10.png',\n",
       " '2021-03-03_21-39-10.png',\n",
       " '2021-03-04_17-43-02.png',\n",
       " '2021-03-13_19-04-57.png',\n",
       " '2021-03-09_11-43-57.png',\n",
       " '@csalgo Telegram_00_06_16.m_2021-03-14-20h18m43s648.png',\n",
       " '@csalgo Telegram_00_06_16.m2021-03-14-20h25m36s083.png',\n",
       " '2021-03-14_09-23-16.png',\n",
       " '2021-02-27_17-10-53',\n",
       " '2021-03-03_21-46-28.png',\n",
       " '2021-03-01_19-50-02.png',\n",
       " '2021-03-11_19-34-29.png',\n",
       " '2021-03-12_10-27-13.png',\n",
       " '2021-03-08_17-48-22.png',\n",
       " '2021-03-12_10-19-35.png',\n",
       " '2021-03-04_09-40-29.png',\n",
       " '2021-02-26_16-45-01.png',\n",
       " '2021-03-08_08-56-17.png',\n",
       " '2021-03-13_18-07-20.png',\n",
       " '2021-03-08_17-19-43.png',\n",
       " '2021-03-08_17-58-21.png',\n",
       " '2021-03-08_18-58-47.png',\n",
       " '2021-02-22_18-42-16.jpeg',\n",
       " '2021-02-26_10-57-36.png',\n",
       " '2021-03-12_15-04-24.png',\n",
       " '2021-03-10_19-23-43.png',\n",
       " '2021-02-27_10-49-49.png',\n",
       " '2021-03-03_21-34-26.png',\n",
       " '2021-02-26_16-20-23.png',\n",
       " '2021-03-14_19-50-46.png',\n",
       " '2021-03-06_10-33-15.png',\n",
       " '2021-03-08_16-58-33.png',\n",
       " '2021-03-10_19-25-58.png',\n",
       " '2021-03-06_14-04-33.png',\n",
       " '2021-02-19_15-02-57.png',\n",
       " '2021-03-10_19-39-43.png',\n",
       " '2021-02-26_16-46-17.png',\n",
       " '2021-03-05_15-01-21.png',\n",
       " '2021-03-01_19-55-15.png',\n",
       " '2021-03-03_21-45-39.png',\n",
       " '2021-03-13_17-15-33.png',\n",
       " '41e6cc25-ab00-49f6-b4b8-ee79a8abb635.html',\n",
       " '2021-03-06_12-56-03.png',\n",
       " '2021-03-01_18-50-39.png',\n",
       " '2021-03-11_20-35-31.png',\n",
       " 'vlcsnap-2021-03-14-20h10m45s137.png',\n",
       " '2021-02-20_09-06-23.png',\n",
       " '2021-03-11_12-16-33.png',\n",
       " '2021-02-26_16-49-40.png',\n",
       " '2021-02-19_13-39-31.png',\n",
       " '2021-02-22_10-03-30.png',\n",
       " '2021-03-10_19-00-55.png',\n",
       " '2021-03-08_15-17-34.png',\n",
       " '2021-03-05_16-02-47',\n",
       " '2021-03-13_10-27-11.png',\n",
       " '2021-03-09_11-41-56.png',\n",
       " '2021-02-26_10-54-15.png',\n",
       " '2021-03-08_17-40-16.png',\n",
       " '2021-03-10_19-49-24.png',\n",
       " '2021-02-28_11-08-27.png',\n",
       " '2021-02-26_13-21-31.png',\n",
       " '2021-03-10_20-08-15.png',\n",
       " '2021-03-12_10-57-14.png',\n",
       " '2021-03-13_19-00-41.png',\n",
       " '2021-03-11_19-58-59.png',\n",
       " '2021-03-08_15-05-49.jpeg',\n",
       " '@csalgo Telegram_00_06_16.m_2021-03-14-20h18m45s026.png',\n",
       " '2021-03-12_11-14-27.png',\n",
       " '2021-02-24_13-40-52.png',\n",
       " '7. Solving Ax = 0_ Pivot Variables, Special Solutions 22-24 screenshot (1).png',\n",
       " '2021-03-08_17-15-25.png',\n",
       " '2021-02-27_10-43-25',\n",
       " '2021-03-11_15-00-10.png',\n",
       " '2021-02-26_15-32-39.png',\n",
       " '2021-02-26_16-18-15.png',\n",
       " '2021-03-08_19-00-13.png',\n",
       " '2021-03-04_17-38-16.png',\n",
       " '.ipynb_checkpoints',\n",
       " '2021-03-11_14-49-14.png',\n",
       " '2021-03-03_21-26-30.png',\n",
       " '2021-02-26_14-17-55.png',\n",
       " '2021-03-10_19-42-51.png',\n",
       " '2021-02-26_13-21-51.png',\n",
       " '2021-02-26_15-35-04.png',\n",
       " '2021-03-13_18-50-17.png',\n",
       " '@csalgo Telegram_00_06_16.m_2021-03-14-20h22m55s988.png',\n",
       " '2021-03-04_18-07-17.png',\n",
       " '2021-03-05_15-56-10.png',\n",
       " '2021-03-05_13-52-45.png',\n",
       " '2021-03-10_10-04-52.png',\n",
       " '2021-02-26_16-17-38.png',\n",
       " '2021-02-26_13-32-19.png',\n",
       " '2021-03-03_21-27-50.png',\n",
       " '2021-03-13_18-45-12.png',\n",
       " '2021-02-27_17-11-02',\n",
       " '2021-03-05_16-30-24.png',\n",
       " '2021-02-27_11-30-00',\n",
       " '2021-02-26_16-51-39.png',\n",
       " '2021-03-10_09-32-39.png',\n",
       " '2021-03-01_19-49-48',\n",
       " '_filename__00_06_16.m_2021-03-14-20h17m15s324.png',\n",
       " '2021-02-28_13-28-24.png',\n",
       " 'vlcsnap-2021-03-14-20h12m55s384.png',\n",
       " '2021-03-08_17-50-56.png',\n",
       " '2021-02-26_15-33-28.png',\n",
       " '2021-03-01_14-50-44.png',\n",
       " '2021-03-13_09-30-23.png',\n",
       " '2021-02-27_10-02-26.png',\n",
       " '2021-03-08_17-50-31.png',\n",
       " '2021-03-03_17-48-49.png',\n",
       " '2021-02-12_19-46-47.png',\n",
       " '2021-02-26_16-45-25.png',\n",
       " '2021-03-03_16-07-01.png',\n",
       " '2021-03-09_11-34-37.png',\n",
       " '2021-03-10_09-38-38.png',\n",
       " '2021-03-10_19-17-22.png',\n",
       " '2021-03-13_19-10-22.png',\n",
       " '2021-03-10_19-18-37.png',\n",
       " '2021-03-11_20-47-55.png',\n",
       " '2021-03-08_15-22-54.png',\n",
       " '2021-03-08_17-02-23.png',\n",
       " '2021-03-04_17-42-07.png',\n",
       " '@csalgo Telegram_00_06_16.m_2021-03-14-20h22m57s753.png',\n",
       " '2021-03-15_17-20-04.png',\n",
       " '2021-02-26_10-33-17.png',\n",
       " '2021-03-03_17-46-42.png',\n",
       " '2021-03-07_14-51-20.png',\n",
       " '2021-03-13_17-06-23.png',\n",
       " '2021-03-13_18-52-44.png',\n",
       " '2021-03-08_18-22-18.png',\n",
       " '2021-03-10_10-56-45.png',\n",
       " '2021-03-10_09-58-18.png',\n",
       " '2021-02-28_10-47-47',\n",
       " '2021-02-19_14-27-15.png',\n",
       " '2021-03-09_11-45-09.png',\n",
       " '2021-03-04_09-21-16.png',\n",
       " '2021-03-05_12-58-35.png',\n",
       " '2021-03-13_20-01-35.png',\n",
       " '2021-03-01_12-01-29.png',\n",
       " '2021-03-11_14-45-35.png',\n",
       " '2021-03-13_17-29-32.png',\n",
       " '2021-03-12_11-24-26.png',\n",
       " '2021-02-20_14-59-46.png',\n",
       " '2021-03-10_11-02-33.png',\n",
       " 'mqdefault_6s (1).webp',\n",
       " '2021-03-03_13-47-36.png',\n",
       " '2021-03-04_20-00-05.png',\n",
       " '2021-03-08_15-09-29.png',\n",
       " '2021-02-26_11-45-03.png',\n",
       " '2021-02-19_20-53-53.png',\n",
       " '2021-03-10_16-50-21.png',\n",
       " '7. Solving Ax = 0_ Pivot Variables, Special Solutions 23-1 screenshot.png',\n",
       " '2021-03-13_09-50-10.png',\n",
       " '2021-03-03_21-47-03.png',\n",
       " '2021-03-03_21-50-36.png',\n",
       " '2021-03-04_10-03-38.png',\n",
       " '2021-02-26_15-33-48.png',\n",
       " '2021-03-08_15-17-06.png',\n",
       " '2021-03-10_20-08-40.png']"
      ]
     },
     "execution_count": 33,
     "metadata": {},
     "output_type": "execute_result"
    }
   ],
   "source": [
    "os.listdir(os.getcwd())"
   ]
  },
  {
   "cell_type": "markdown",
   "metadata": {
    "colab_type": "text",
    "collapsed": true,
    "id": "aAju12lk-I-3"
   },
   "source": [
    "**Making New Directory**"
   ]
  },
  {
   "cell_type": "markdown",
   "metadata": {
    "colab_type": "text",
    "id": "_sbXkYLl-I-4"
   },
   "source": [
    "We can make a new directory using the mkdir() method.\n",
    "\n",
    "This method takes in the path of the new directory. If the full path is not specified, the new directory is created in the current working directory."
   ]
  },
  {
   "cell_type": "code",
   "execution_count": 34,
   "metadata": {
    "colab": {},
    "colab_type": "code",
    "id": "V0mfK9V9-I-5"
   },
   "outputs": [
    {
     "ename": "FileExistsError",
     "evalue": "[Errno 17] File exists: 'test'",
     "output_type": "error",
     "traceback": [
      "\u001b[0;31m---------------------------------------------------------------------------\u001b[0m",
      "\u001b[0;31mFileExistsError\u001b[0m                           Traceback (most recent call last)",
      "\u001b[0;32m<ipython-input-34-649df206c3ee>\u001b[0m in \u001b[0;36m<module>\u001b[0;34m\u001b[0m\n\u001b[0;32m----> 1\u001b[0;31m \u001b[0mos\u001b[0m\u001b[0;34m.\u001b[0m\u001b[0mmkdir\u001b[0m\u001b[0;34m(\u001b[0m\u001b[0;34m'test'\u001b[0m\u001b[0;34m)\u001b[0m\u001b[0;34m\u001b[0m\u001b[0;34m\u001b[0m\u001b[0m\n\u001b[0m",
      "\u001b[0;31mFileExistsError\u001b[0m: [Errno 17] File exists: 'test'"
     ]
    }
   ],
   "source": [
    "os.mkdir('test')"
   ]
  },
  {
   "cell_type": "markdown",
   "metadata": {
    "colab_type": "text",
    "id": "8hMr4f93-I-8"
   },
   "source": [
    "However, note that rmdir() method can only remove empty directories.\n",
    "\n",
    "In order to remove a non-empty directory we can use the rmtree() method inside the shutil module."
   ]
  },
  {
   "cell_type": "code",
   "execution_count": 35,
   "metadata": {
    "colab": {},
    "colab_type": "code",
    "id": "1ZPkqVtz-I-9",
    "scrolled": true
   },
   "outputs": [
    {
     "ename": "OSError",
     "evalue": "[Errno 39] Directory not empty: 'test'",
     "output_type": "error",
     "traceback": [
      "\u001b[0;31m---------------------------------------------------------------------------\u001b[0m",
      "\u001b[0;31mOSError\u001b[0m                                   Traceback (most recent call last)",
      "\u001b[0;32m<ipython-input-35-c4255042d84c>\u001b[0m in \u001b[0;36m<module>\u001b[0;34m\u001b[0m\n\u001b[0;32m----> 1\u001b[0;31m \u001b[0mos\u001b[0m\u001b[0;34m.\u001b[0m\u001b[0mrmdir\u001b[0m\u001b[0;34m(\u001b[0m\u001b[0;34m'test'\u001b[0m\u001b[0;34m)\u001b[0m\u001b[0;34m\u001b[0m\u001b[0;34m\u001b[0m\u001b[0m\n\u001b[0m",
      "\u001b[0;31mOSError\u001b[0m: [Errno 39] Directory not empty: 'test'"
     ]
    }
   ],
   "source": [
    "os.rmdir('test')"
   ]
  },
  {
   "cell_type": "code",
   "execution_count": 36,
   "metadata": {
    "colab": {},
    "colab_type": "code",
    "id": "DSSYlZ3q-I_B",
    "outputId": "7c38c971-ca52-426e-dcbd-68341bcdd80a"
   },
   "outputs": [
    {
     "ename": "FileExistsError",
     "evalue": "[Errno 17] File exists: 'test'",
     "output_type": "error",
     "traceback": [
      "\u001b[0;31m---------------------------------------------------------------------------\u001b[0m",
      "\u001b[0;31mFileExistsError\u001b[0m                           Traceback (most recent call last)",
      "\u001b[0;32m<ipython-input-36-26b2a6a8d00a>\u001b[0m in \u001b[0;36m<module>\u001b[0;34m\u001b[0m\n\u001b[1;32m      1\u001b[0m \u001b[0;32mimport\u001b[0m \u001b[0mshutil\u001b[0m\u001b[0;34m\u001b[0m\u001b[0;34m\u001b[0m\u001b[0m\n\u001b[1;32m      2\u001b[0m \u001b[0;34m\u001b[0m\u001b[0m\n\u001b[0;32m----> 3\u001b[0;31m \u001b[0mos\u001b[0m\u001b[0;34m.\u001b[0m\u001b[0mmkdir\u001b[0m\u001b[0;34m(\u001b[0m\u001b[0;34m'test'\u001b[0m\u001b[0;34m)\u001b[0m\u001b[0;34m\u001b[0m\u001b[0;34m\u001b[0m\u001b[0m\n\u001b[0m\u001b[1;32m      4\u001b[0m \u001b[0mos\u001b[0m\u001b[0;34m.\u001b[0m\u001b[0mchdir\u001b[0m\u001b[0;34m(\u001b[0m\u001b[0;34m'./test'\u001b[0m\u001b[0;34m)\u001b[0m\u001b[0;34m\u001b[0m\u001b[0;34m\u001b[0m\u001b[0m\n\u001b[1;32m      5\u001b[0m \u001b[0mf\u001b[0m \u001b[0;34m=\u001b[0m \u001b[0mopen\u001b[0m\u001b[0;34m(\u001b[0m\u001b[0;34m\"testfile.txt\"\u001b[0m\u001b[0;34m,\u001b[0m\u001b[0;34m'w'\u001b[0m\u001b[0;34m)\u001b[0m\u001b[0;34m\u001b[0m\u001b[0;34m\u001b[0m\u001b[0m\n",
      "\u001b[0;31mFileExistsError\u001b[0m: [Errno 17] File exists: 'test'"
     ]
    }
   ],
   "source": [
    "import shutil\n",
    "\n",
    "os.mkdir('test')\n",
    "os.chdir('./test')\n",
    "f = open(\"testfile.txt\",'w')\n",
    "f.write(\"Hello World\")\n",
    "os.chdir(\"../\")\n",
    "os.rmdir('test')\n"
   ]
  },
  {
   "cell_type": "code",
   "execution_count": 37,
   "metadata": {
    "colab": {},
    "colab_type": "code",
    "id": "vki1ogpm-I_H"
   },
   "outputs": [],
   "source": [
    "# remove an non-empty directory\n",
    "shutil.rmtree('test')"
   ]
  },
  {
   "cell_type": "code",
   "execution_count": 38,
   "metadata": {
    "colab": {},
    "colab_type": "code",
    "id": "f_1n9fZU-I_K",
    "outputId": "1a328918-f87f-401a-f8b4-f35a5eea531d"
   },
   "outputs": [
    {
     "data": {
      "text/plain": [
       "'/home/gaurav/Pictures'"
      ]
     },
     "execution_count": 38,
     "metadata": {},
     "output_type": "execute_result"
    }
   ],
   "source": [
    "os.getcwd()"
   ]
  },
  {
   "cell_type": "code",
   "execution_count": null,
   "metadata": {
    "colab": {},
    "colab_type": "code",
    "id": "n8QPzT6a-I_M"
   },
   "outputs": [],
   "source": []
  }
 ],
 "metadata": {
  "colab": {
   "name": "File_IO.ipynb",
   "provenance": [],
   "version": "0.3.2"
  },
  "kernelspec": {
   "display_name": "Python 3",
   "language": "python",
   "name": "python3"
  },
  "language_info": {
   "codemirror_mode": {
    "name": "ipython",
    "version": 3
   },
   "file_extension": ".py",
   "mimetype": "text/x-python",
   "name": "python",
   "nbconvert_exporter": "python",
   "pygments_lexer": "ipython3",
   "version": "3.8.5"
  }
 },
 "nbformat": 4,
 "nbformat_minor": 1
}
